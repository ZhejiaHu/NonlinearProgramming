{
 "cells": [
  {
   "cell_type": "code",
   "execution_count": 1,
   "id": "9f8847709da9eb07",
   "metadata": {
    "ExecuteTime": {
     "end_time": "2025-10-12T13:36:35.057109Z",
     "start_time": "2025-10-12T13:36:35.053374Z"
    }
   },
   "outputs": [],
   "source": [
    "import numpy as np\n",
    "from scipy.optimize import minimize, brute, differential_evolution, NonlinearConstraint, BFGS\n",
    "import sys\n",
    "from functools import reduce\n",
    "from typing import Tuple, List \n",
    "np.set_printoptions(threshold=sys.maxsize)"
   ]
  },
  {
   "cell_type": "markdown",
   "id": "cbd7ac84-0299-4f35-a04a-bc93e160ed44",
   "metadata": {},
   "source": [
    "##### Simulation and Optimization Code"
   ]
  },
  {
   "cell_type": "code",
   "execution_count": 2,
   "id": "653517db20b00072",
   "metadata": {},
   "outputs": [],
   "source": [
    "# Global hyperparameters\n",
    "E1, E2, E3 = 1, 2, 3\n",
    "Ndim = 15   # 1-7 rho for segment 1-6, with 0, 7 dummy segment 0, 7 for rho, 8-13 v for segment 1-7, 14 w_r\n",
    "T, L, Lambda, D_r = 1 / 360, 1, 2, 1500\n",
    "Tau, Mu, C_r, Rho_m, Alpha, K, A, V_f, Rho_c = 19, 60, 2000, 120, 0.1, 40, 1.867, 120, 33 + E1 / 3"
   ]
  },
  {
   "cell_type": "code",
   "execution_count": 3,
   "id": "2f499607-1db4-40b9-a431-2dc4fc4ca505",
   "metadata": {},
   "outputs": [],
   "source": [
    "# Utility method (softmax min)\n",
    "def soft_min(xs: List, beta: float=50.0):\n",
    "    nx = np.array(xs)\n",
    "    m = np.min(nx)\n",
    "    return m - (1.0 / beta) * np.log(np.sum(np.exp(-beta * (nx - m))))\n",
    "\n",
    "def closest(arr: np.ndarray, q: float):\n",
    "    idx = np.searchsorted(arr, q)\n",
    "    if idx == 0: return arr[0]\n",
    "    if idx == len(arr): return arr[-1]\n",
    "    return arr[idx-1] if abs(q - arr[idx-1]) <= abs(arr[idx] - q) else arr[idx]"
   ]
  },
  {
   "cell_type": "code",
   "execution_count": 4,
   "id": "fee80497-fa44-4b8d-bcc9-f5c694803b6a",
   "metadata": {},
   "outputs": [],
   "source": [
    "# Wrap up sophisticated functions in the simulation as well as optimization to produce less bugs\n",
    "def _observation(states: np.ndarray, i: int):\n",
    "    return T * states[i, -1] + T * L * Lambda * np.sum(states[i, 1:7])\n",
    "\n",
    "def _speed_dynamics(states: np.ndarray, control_inputs: np.ndarray, i: int, j: int):\n",
    "    prv_desired_speed = V_f * np.exp(-np.pow(-soft_min([-states[i-1, j], 0]) / Rho_c, A) / A)\n",
    "    prv_V = soft_min([(1 + Alpha) * control_inputs[i-1, 0].item(), prv_desired_speed]) if j == 2 or j == 3 else prv_desired_speed\n",
    "    return states[i-1, j+7] + T / Tau * (prv_V - states[i-1, j+7]) + T / L * states[i-1, j+7] * ((states[i-1, j+6] - states[i-1, j+7]) if j > 1 else 0) - (Mu * T * (states[i-1, j+1] - states[i-1, j])) / (Tau * L * (states[i-1, j] + K))\n",
    "\n",
    "def _init_density(states: np.ndarray, i: int):\n",
    "    v_0, cur_q_0 = states[i, 8], (3000 + 50 * E2) if i < 60 else (1000 + 50 * E2)\n",
    "    return cur_q_0 / (Lambda * v_0)\n",
    "\n",
    "def _density_dynamics(states: np.ndarray, i: int, j: int):\n",
    "    return states[i-1, j] + T / L * states[i-1, j-1] * (states[i-1, j-1+7] if j > 1 else states[i-1, 8]) - T / L * states[i-1, j] * states[i-1, j+7]\n",
    "\n",
    "def _ramp_density(states: np.ndarray, control_inputs: np.ndarray, i: int):\n",
    "    return soft_min([control_inputs[i-1, 1].item() * C_r, D_r + states[i-1, -1].item() / T, C_r * (Rho_m - states[i-1, 5].item()) / (Rho_m - Rho_c)])\n",
    "\n",
    "def _add_ramp_up(states: np.ndarray, control_inputs: np.ndarray, i: int):\n",
    "    return T / (Lambda * L) * _ramp_density(states, control_inputs, i)\n",
    "\n",
    "def _queue_length_dynamics(states: np.ndarray, control_inputs: np.ndarray, i: int):\n",
    "    return max(0, states[i-1, -1] + T * (D_r - _ramp_density(states, control_inputs, i)))"
   ]
  },
  {
   "cell_type": "code",
   "execution_count": 5,
   "id": "4ee3dd02-e2ac-45d6-b61d-f7d51f057a94",
   "metadata": {},
   "outputs": [],
   "source": [
    "def dynamics(control_inputs: np.ndarray, num_step: int=120):\n",
    "    states, outputs = np.zeros(shape=(num_step+1, Ndim)), np.zeros(shape=num_step+1)\n",
    "    # Time boundary conditions\n",
    "    states[0, 0] = 25\n",
    "    for i in range(1, 8): states[0, i], states[0, i+7] = 25, 80\n",
    "    states[0, -1] = 0\n",
    "    # Time Evolution\n",
    "    for i in range(1, num_step+1):\n",
    "        # evaluate speed\n",
    "        for j in range(1, 7):\n",
    "            states[i, j+7] = _speed_dynamics(states, control_inputs, i, j)\n",
    "        # evaluate density\n",
    "        states[i, 0] = _init_density(states, i)\n",
    "        for j in range(1, 7):\n",
    "            states[i, j] = _density_dynamics(states, i, j)\n",
    "            if j == 5:\n",
    "                states[i, j] += _add_ramp_up(states, control_inputs, i)\n",
    "        # evaluate queue size\n",
    "        states[i, 7] = states[i, 6]\n",
    "        states[i, -1] = _queue_length_dynamics(states, control_inputs, i)\n",
    "        # evaluate output\n",
    "        outputs[i] = _observation(states, i)\n",
    "    return states, outputs"
   ]
  },
  {
   "cell_type": "code",
   "execution_count": 6,
   "id": "9b16d8cb-6430-4aae-8de7-4922d0e7d98a",
   "metadata": {},
   "outputs": [],
   "source": [
    "def unpack(num_step: int, opt_vars: np.ndarray) -> Tuple[np.ndarray, np.ndarray]:\n",
    "    controls, states = opt_vars[:2*num_step], opt_vars[2*num_step:]\n",
    "    return controls.reshape((-1, 2)), states.reshape((-1, Ndim))\n",
    "\n",
    "def pack(controls: np.ndarray, states: np.ndarray) -> np.ndarray:\n",
    "    return np.append(controls.reshape(-1), states.reshape(-1))\n",
    "\n",
    "def create_control(vsl_: np.ndarray, r_: np.ndarray) -> np.ndarray:\n",
    "    vsl, r = np.repeat(vsl_, 6), np.repeat(r_, 6)\n",
    "    return np.column_stack((vsl, r))\n",
    "\n",
    "def objectives(states: np.ndarray, num_step=120):\n",
    "    return reduce(lambda x, y: x + y, map(lambda idx: _observation(states, idx), range(1, num_step+1)))"
   ]
  },
  {
   "cell_type": "code",
   "execution_count": 7,
   "id": "cb5728d0-2201-448e-b2a2-818c24ed8510",
   "metadata": {},
   "outputs": [],
   "source": [
    "def simulate(vsl_: np.array=None, r_: np.array=None, num_step: int=120, ):\n",
    "    control_inputs: np.ndarray = create_control(vsl_, r_)\n",
    "    return dynamics(control_inputs, num_step=num_step)"
   ]
  },
  {
   "cell_type": "code",
   "execution_count": 20,
   "id": "10efa0bd-dc62-4232-b5b4-641d0621fd34",
   "metadata": {},
   "outputs": [],
   "source": [
    "def optimize(num_step: int=120, init_vsl_: np.array=None, init_r_: np.array=None, max_queue: bool=False, discrete: bool=False):\n",
    "    num_minute = int(num_step / 6)\n",
    "\n",
    "    def objective(opt_vars: np.ndarray):\n",
    "        assert not np.isnan(opt_vars).any() and not np.isinf(opt_vars).any()\n",
    "        controls, states = unpack(num_step, opt_vars)\n",
    "        return reduce(lambda x, y: x + y, map(lambda idx: _observation(states, idx), range(1, num_step+1)))\n",
    "    \n",
    "    def dynamics_constraint(opt_vars: np.ndarray):\n",
    "        \"\"\"\n",
    "        Express the nonlinear equality constraints x[k+1]=f(x[k],u[k]) => f(x[k],u[k])-x[k+1]=0\n",
    "        \"\"\"\n",
    "        controls, states = unpack(num_step, opt_vars) \n",
    "        results = np.zeros(shape=num_step*Ndim) \n",
    "        # Initialization Contraints\n",
    "        results[0] = states[0, 0] - 25\n",
    "        for i in range(1, 8):\n",
    "            results[i] = states[i, 0] - 25\n",
    "            if i != 7: results[i+7] = states[0, i+7] - 80\n",
    "        results[14] = states[0, -1]\n",
    "    \n",
    "        for i in range(0, num_step):\n",
    "            # Speed contraints: same with speed dynamics\n",
    "            for j in range(1, 7):\n",
    "                results[i*Ndim+j+7] = _speed_dynamics(states, controls, i, j) - states[i, j+7]\n",
    "            # Initial density constraints: v_0(k) = v_1(k), q_0(k) = lambda * rho_0(k) * v_0(k)\n",
    "            results[i*Ndim] = _init_density(states, i) - states[i, 0]\n",
    "            # Density constraints\n",
    "            for j in range(1, 7):\n",
    "                results[i*Ndim+j] = _density_dynamics(states, i, j) - states[i, j]\n",
    "                if j == 5:\n",
    "                    results[i*Ndim+j] += _add_ramp_up(states, controls, i)\n",
    "            results[i*Ndim+7] = states[i, 7] - states[i, 6]\n",
    "            results[(i+1)*Ndim-1] = states[i, -1] - _queue_length_dynamics(states, controls, i)\n",
    "        return results\n",
    "\n",
    "    def discrete_dynamics(controls: np.ndarray):\n",
    "        vsl_, r_ = controls[:num_minute], controls[num_minute:]\n",
    "        disc_vsl_, disc_r_ = np.zeros_like(vsl_), np.zeros_like(r_)\n",
    "        for i in range(num_minute): disc_vsl_[i] = closest(np.array([60, 80, 100, 120]), vsl_[i])\n",
    "        for i in range(num_minute): disc_r_[i] = closest(np.array([0.2, 0.4, 0.6, 0.8]), r_[i])\n",
    "        discretized: np.ndarray = create_control(disc_vsl_, disc_r_)\n",
    "        states, outputs = dynamics(discretized)\n",
    "        return objectives(states)\n",
    "\n",
    "    def continous_dynamics(controls: np.ndarray):\n",
    "        #print(controls[0:5])\n",
    "        vsl_, r_ = controls[:num_minute], controls[num_minute:]\n",
    "        print(\"=================\")\n",
    "        print(vsl_)\n",
    "        print(r_)\n",
    "        control_inputs: np.ndarray = create_control(vsl_, r_)\n",
    "        states, _ = dynamics(control_inputs, num_step=num_step)\n",
    "        return objectives(states)\n",
    "\n",
    "    def queue_length_constrain(controls: np.ndarray) -> np.ndarray:\n",
    "        vsl_, r_ = controls[:num_minute], controls[num_minute:]\n",
    "        control_inputs: np.ndarray = create_control(vsl_, r_)\n",
    "        states, _ = dynamics(control_inputs, num_step=num_step)\n",
    "        return states[:,-1]\n",
    "                \n",
    "    result = None\n",
    "    if not discrete:\n",
    "        # init_opt_vars = pack(init_controls, init_states) # define initial values for optimization\n",
    "        # nonlinear_contraints = NonlinearConstraint(dynamics_constraint, lb=np.zeros(shape=num_step*Ndim), ub=np.zeros(shape=num_step*Ndim), jac='3-point', hess=BFGS())     # define nonlinear contraints\n",
    "        # bounds = [(0, 1), (60, 120)] * num_step + ([(0, Rho_c)] * 8 + [(0, 200)] * 6 + [(0, (np.inf if not max_queue else 23 + E1 / 6))])  * (num_step + 1)\n",
    "        # assert len(init_opt_vars) == len(bounds)\n",
    "        # result = minimize(objective, init_opt_vars, method='trust-constr', jac='3-point', hess=BFGS(), bounds=bounds, constraints=[nonlinear_contraints], options={'verbose': 2, \"gtol\": 1e-5, \"xtol\": 1e-5, \"barrier_tol\": 1e-7, \"sparse_jacobian\": True, \"factorization_method\": \"AugmentedSystem\", \"maxiter\": 100})\n",
    "        bounds = [(60, 120)] * num_minute + [(0, 1)] * num_minute\n",
    "        init_opt_vars = np.append(init_vsl_, init_r_)\n",
    "        if not max_queue: result = minimize(continous_dynamics, init_opt_vars, method='trust-constr', jac='3-point', bounds=bounds, options={'verbose': 2, \"gtol\": 1e-5, \"xtol\": 1e-5, \"barrier_tol\": 1e-7, \"sparse_jacobian\": True, \"factorization_method\": \"AugmentedSystem\", \"maxiter\": 100})\n",
    "        else: \n",
    "            constraint = NonlinearConstraint(queue_length_constrain, lb=np.zeros(shape=num_step+1), ub=np.array([23+E1/6]*(num_step+1)))\n",
    "            result = minimize(continous_dynamics, init_opt_vars, constraints=constraint, method='trust-constr', jac='3-point', hess=BFGS(), bounds=bounds, options={'verbose': 2, \"gtol\": 1e-5, \"xtol\": 1e-5, \"barrier_tol\": 1e-7, \"sparse_jacobian\": True, \"factorization_method\": \"AugmentedSystem\", \"maxiter\": 100})\n",
    "    else: \n",
    "        bounds = [(60, 130)] * num_minute + [(0.2, 1)] * num_minute\n",
    "        result = differential_evolution(discrete_dynamics, bounds=tuple(bounds), disp=True)\n",
    "    print(f\"Success: {result.success}, message: {result.message}\")\n",
    "    optimal_opt_vars = result.x\n",
    "    optimal_controls, optimal_states = unpack(num_step, optimal_opt_vars)\n",
    "    return optimal_controls, optimal_states"
   ]
  },
  {
   "cell_type": "markdown",
   "id": "88eba358-5b6f-4771-a222-c69c8da14496",
   "metadata": {},
   "source": [
    "##### Task Code for the problems"
   ]
  },
  {
   "cell_type": "code",
   "execution_count": 9,
   "id": "c7e6373d-82d4-4913-92bd-8e6156c60d3a",
   "metadata": {},
   "outputs": [],
   "source": [
    "def task1(num_control: int):\n",
    "    vsl_, r_ = np.random.rand(num_control) * 60 + 60, np.random.rand(num_control)\n",
    "    states, outputs = simulate(vsl_, r_)\n",
    "    print(objectives(states))"
   ]
  },
  {
   "cell_type": "code",
   "execution_count": 10,
   "id": "908d4c63-4377-4c22-b9e2-faecea0ba350",
   "metadata": {},
   "outputs": [],
   "source": [
    "def task3():\n",
    "    optimize(120, np.array([60] * 20), np.array([0] * 20))\n",
    "    optimize(120, np.array([120] * 20), np.array([1] * 20))"
   ]
  },
  {
   "cell_type": "code",
   "execution_count": 11,
   "id": "89f4ed89-205c-4dc7-ba14-881f7a19556e",
   "metadata": {},
   "outputs": [],
   "source": [
    "def task6():\n",
    "    vsl_, r_ = np.random.rand(20) * 60 + 60, np.random.rand(20)\n",
    "    optimize(120, vsl_, r_, max_queue=True)"
   ]
  },
  {
   "cell_type": "code",
   "execution_count": 12,
   "id": "10a442d2-09f4-4672-a74e-87d3eef91a04",
   "metadata": {},
   "outputs": [],
   "source": [
    "def task7():\n",
    "    optimize(120, np.array([120] * 20), np.array([1] * 20), discrete=True)"
   ]
  },
  {
   "cell_type": "code",
   "execution_count": 13,
   "id": "ad471847-72d0-4cac-8079-c345bb6693b2",
   "metadata": {},
   "outputs": [
    {
     "name": "stdout",
     "output_type": "stream",
     "text": [
      "104.57575627991963\n"
     ]
    }
   ],
   "source": [
    "task1(20)"
   ]
  },
  {
   "cell_type": "code",
   "execution_count": null,
   "id": "9ece37a5-8029-4bce-a83b-eb961123e1ea",
   "metadata": {},
   "outputs": [],
   "source": []
  }
 ],
 "metadata": {
  "kernelspec": {
   "display_name": "Python 3 (ipykernel)",
   "language": "python",
   "name": "python3"
  },
  "language_info": {
   "codemirror_mode": {
    "name": "ipython",
    "version": 3
   },
   "file_extension": ".py",
   "mimetype": "text/x-python",
   "name": "python",
   "nbconvert_exporter": "python",
   "pygments_lexer": "ipython3",
   "version": "3.12.3"
  }
 },
 "nbformat": 4,
 "nbformat_minor": 5
}
