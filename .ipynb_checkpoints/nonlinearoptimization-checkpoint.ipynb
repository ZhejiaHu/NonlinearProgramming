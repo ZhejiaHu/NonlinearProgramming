{
 "cells": [
  {
   "cell_type": "code",
   "execution_count": 2,
   "id": "9f8847709da9eb07",
   "metadata": {
    "ExecuteTime": {
     "end_time": "2025-10-12T13:36:35.057109Z",
     "start_time": "2025-10-12T13:36:35.053374Z"
    }
   },
   "outputs": [],
   "source": [
    "import numpy as np\n",
    "from scipy.optimize import minimize, NonlinearConstraint, BFGS\n",
    "import sys\n",
    "from functools import reduce\n",
    "from typing import Tuple, List \n",
    "np.set_printoptions(threshold=sys.maxsize)"
   ]
  },
  {
   "cell_type": "markdown",
   "id": "cbd7ac84-0299-4f35-a04a-bc93e160ed44",
   "metadata": {},
   "source": [
    "##### Simulation and Optimization Code"
   ]
  },
  {
   "cell_type": "code",
   "execution_count": 2,
   "id": "653517db20b00072",
   "metadata": {},
   "outputs": [],
   "source": [
    "# Global hyperparameters\n",
    "E1, E2, E3 = 1, 2, 3\n",
    "Ndim = 15   # 1-7 rho for segment 1-6, with 0, 7 dummy segment 0, 7 for rho, 8-13 v for segment 1-7, 14 w_r\n",
    "T, L, Lambda, D_r = 1 / 360, 1, 2, 1500\n",
    "Tau, Mu, C_r, Rho_m, Alpha, K, A, V_f, Rho_c = 19, 60, 2000, 120, 0.1, 40, 1.867, 120, 33 + E1 / 3"
   ]
  },
  {
   "cell_type": "code",
   "execution_count": 3,
   "id": "2f499607-1db4-40b9-a431-2dc4fc4ca505",
   "metadata": {},
   "outputs": [],
   "source": [
    "# Utility method (softmax min)\n",
    "def soft_min(xs: List, beta: float=50.0):\n",
    "    nx = np.array(xs)\n",
    "    m = np.min(nx)\n",
    "    return m - (1.0 / beta) * np.log(np.sum(np.exp(-beta * (nx - m))))"
   ]
  },
  {
   "cell_type": "code",
   "execution_count": 4,
   "id": "fee80497-fa44-4b8d-bcc9-f5c694803b6a",
   "metadata": {},
   "outputs": [],
   "source": [
    "# Wrap up sophisticated functions in the simulation as well as optimization to produce less bugs\n",
    "def _observation(states: np.ndarray, i: int):\n",
    "    return T * states[i, -1] + T * L * Lambda * np.sum(states[i, 1:7])\n",
    "\n",
    "def _speed_dynamics(states: np.ndarray, control_inputs: np.ndarray, i: int, j: int):\n",
    "    prv_desired_speed = V_f * np.exp(-np.pow(-soft_min([-states[i-1, j], 0]) / Rho_c, A) / A)\n",
    "    prv_V = soft_min([(1 + Alpha) * control_inputs[i-1, 0].item(), prv_desired_speed]) if j == 2 or j == 3 else prv_desired_speed\n",
    "    return states[i-1, j+7] + T / Tau * (prv_V - states[i-1, j+7]) + T / L * states[i-1, j+7] * ((states[i-1, j+6] - states[i-1, j+7]) if j > 1 else 0) - (Mu * T * (states[i-1, j+1] - states[i-1, j])) / (Tau * L * (states[i-1, j] + K))\n",
    "\n",
    "def _init_density(states: np.ndarray, i: int):\n",
    "    v_0, cur_q_0 = states[i, 8], (3000 + 50 * E2) if i < 60 else (1000 + 50 * E2)\n",
    "    return cur_q_0 / (Lambda * v_0)\n",
    "\n",
    "def _density_dynamics(states: np.ndarray, i: int, j: int):\n",
    "    return states[i-1, j] + T / L * states[i-1, j-1] * (states[i-1, j-1+7] if j > 1 else states[i-1, 8]) - T / L * states[i-1, j] * states[i-1, j+7]\n",
    "\n",
    "def _ramp_density(states: np.ndarray, control_inputs: np.ndarray, i: int):\n",
    "    return soft_min([control_inputs[i-1, 1].item() * C_r, D_r + states[i-1, -1].item() / T, C_r * (Rho_m - states[i-1, 5].item()) / (Rho_m - Rho_c)])\n",
    "\n",
    "def _add_ramp_up(states: np.ndarray, control_inputs: np.ndarray, i: int):\n",
    "    return T / (Lambda * L) * _ramp_density(states, control_inputs, i)\n",
    "\n",
    "def _queue_length_dynamics(states: np.ndarray, control_inputs: np.ndarray, i: int):\n",
    "    return max(0, states[i-1, -1] + T * (D_r - _ramp_density(states, control_inputs, i)))"
   ]
  },
  {
   "cell_type": "code",
   "execution_count": 3,
   "id": "4ee3dd02-e2ac-45d6-b61d-f7d51f057a94",
   "metadata": {},
   "outputs": [],
   "source": [
    "def dynamics(control_inputs: np.ndarray, num_step: int=120):\n",
    "    states, outputs = np.zeros(shape=(num_step+1, Ndim)), np.zeros(shape=num_step+1)\n",
    "    # Time boundary conditions\n",
    "    states[0, 0] = 25\n",
    "    for i in range(1, 8): states[0, i], states[0, i+7] = 25, 80\n",
    "    states[0, -1] = 0\n",
    "    # Time Evolution\n",
    "    for i in range(1, num_step+1):\n",
    "        # evaluate speed\n",
    "        for j in range(1, 7):\n",
    "            states[i, j+7] = _speed_dynamics(states, control_inputs, i, j)\n",
    "        # evaluate density\n",
    "        states[i, 0] = _init_density(states, i)\n",
    "        for j in range(1, 7):\n",
    "            states[i, j] = _density_dynamics(states, i, j)\n",
    "            if j == 5:\n",
    "                states[i, j] += _add_ramp_up(states, control_inputs, i)\n",
    "        # evaluate queue size\n",
    "        states[i, 7] = states[i, 6]\n",
    "        states[i, -1] = _queue_length_dynamics(states, control_inputs, i)\n",
    "        # evaluate output\n",
    "        outputs[i] = _observation(states, i)\n",
    "    return states, outputs"
   ]
  },
  {
   "cell_type": "code",
   "execution_count": 4,
   "id": "cb5728d0-2201-448e-b2a2-818c24ed8510",
   "metadata": {},
   "outputs": [],
   "source": [
    "def simulate(num_step: int=120, vsl_: np.array=None, r_: np.array=None):\n",
    "    vsl, r = np.repeat(vsl_, 6), np.repeat(r_, 6)\n",
    "    assert len(vsl) == num_step\n",
    "    control_inputs: np.ndarray = np.column_stack((vsl, r))\n",
    "    return dynamics(control_inputs, num_step=num_step)"
   ]
  },
  {
   "cell_type": "code",
   "execution_count": 6,
   "id": "9b16d8cb-6430-4aae-8de7-4922d0e7d98a",
   "metadata": {},
   "outputs": [],
   "source": [
    "def unpack(num_step: int, opt_vars: np.ndarray) -> Tuple[np.ndarray, np.ndarray]:\n",
    "    controls, states = opt_vars[:2*num_step], opt_vars[2*num_step:]\n",
    "    return controls.reshape((-1, 2)), states.reshape((-1, Ndim))\n",
    "\n",
    "def pack(controls: np.ndarray, states: np.ndarray) -> np.ndarray:\n",
    "    return np.append(controls.reshape(-1), states.reshape(-1))"
   ]
  },
  {
   "cell_type": "code",
   "execution_count": 7,
   "id": "10efa0bd-dc62-4232-b5b4-641d0621fd34",
   "metadata": {},
   "outputs": [],
   "source": [
    "def optimize(num_step: int=120, init_controls: np.ndarray=None, init_states: np.ndarray=None, max_queue: bool=False, discrete: bool=False):\n",
    "    def objective(opt_vars: np.ndarray):\n",
    "        assert not np.isnan(opt_vars).any() and not np.isinf(opt_vars).any()\n",
    "        controls, states = unpack(num_step, opt_vars)\n",
    "        return reduce(lambda x, y: x + y, map(lambda idx: _observation(states, idx), range(1, num_step+1)))\n",
    "    \n",
    "    def dynamics_constraint(opt_vars: np.ndarray):\n",
    "        \"\"\"\n",
    "        Express the nonlinear equality constraints x[k+1]=f(x[k],u[k]) => f(x[k],u[k])-x[k+1]=0\n",
    "        \"\"\"\n",
    "        controls, states = unpack(num_step, opt_vars) \n",
    "        results = np.zeros(shape=num_step*Ndim) \n",
    "        # Initialization Contraints\n",
    "        results[0] = states[0, 0] - 25\n",
    "        for i in range(1, 8):\n",
    "            results[i] = states[i, 0] - 25\n",
    "            if i != 7: results[i+7] = states[0, i+7] - 80\n",
    "        results[14] = states[0, -1]\n",
    "    \n",
    "        for i in range(0, num_step):\n",
    "            # Speed contraints: same with speed dynamics\n",
    "            for j in range(1, 7):\n",
    "                results[i*Ndim+j+7] = _speed_dynamics(states, controls, i, j) - states[i, j+7]\n",
    "            # Initial density constraints: v_0(k) = v_1(k), q_0(k) = lambda * rho_0(k) * v_0(k)\n",
    "            results[i*Ndim] = _init_density(states, i) - states[i, 0]\n",
    "            # Density constraints\n",
    "            for j in range(1, 7):\n",
    "                results[i*Ndim+j] = _density_dynamics(states, i, j) - states[i, j]\n",
    "                if j == 5:\n",
    "                    results[i*Ndim+j] += _add_ramp_up(states, controls, i)\n",
    "            results[i*Ndim+7] = states[i, 7] - states[i, 6]\n",
    "            results[(i+1)*Ndim-1] = states[i, -1] - _queue_length_dynamics(states, controls, i)\n",
    "        return results\n",
    "    \n",
    "    \n",
    "    result = None\n",
    "    if not discrete:\n",
    "        init_opt_vars = pack(init_controls, init_states) # define initial values for optimization\n",
    "        nonlinear_contraints = NonlinearConstraint(dynamics_constraint, lb=np.zeros(shape=num_step*Ndim), ub=np.zeros(shape=num_step*Ndim), jac='3-point', hess=BFGS())     # define nonlinear contraints\n",
    "        bounds = [(0, 1), (60, 120)] * num_step + ([(0, Rho_c)] * 8 + [(0, 200)] * 6 + [(0, (np.inf if not max_queue else 23 + E1 / 6))])  * (num_step + 1)\n",
    "        assert len(init_opt_vars) == len(bounds)\n",
    "        result = minimize(objective, init_opt_vars, method='trust-constr', jac='3-point', hess=BFGS(), bounds=bounds, constraints=[nonlinear_contraints], options={'verbose': 2, \"gtol\": 1e-5, \"xtol\": 1e-5, \"barrier_tol\": 1e-7, \"sparse_jacobian\": True, \"factorization_method\": \"AugmentedSystem\", \"maxiter\": 100})\n",
    "    else: \n",
    "        result = \n",
    "        \n",
    "    \n",
    "    print(f\"Success: {result.success}, message: {result.message}\")\n",
    "    optimal_opt_vars = result.x\n",
    "    optimal_controls, optimal_states = unpack(num_step, optimal_opt_vars)\n",
    "    return optimal_controls, optimal_states"
   ]
  },
  {
   "cell_type": "markdown",
   "id": "88eba358-5b6f-4771-a222-c69c8da14496",
   "metadata": {},
   "source": [
    "##### Task Code for the problems"
   ]
  },
  {
   "cell_type": "code",
   "execution_count": 8,
   "id": "c7e6373d-82d4-4913-92bd-8e6156c60d3a",
   "metadata": {},
   "outputs": [],
   "source": [
    "def task1(num_control: int):\n",
    "    vsl_, r_ = np.random.rand(num_control) * 60 + 60, np.random.rand(num_control)\n",
    "    states, outputs = simulate(num_control * 6, vsl_, r_)\n",
    "    print(states)\n",
    "    print(outputs)"
   ]
  },
  {
   "cell_type": "code",
   "execution_count": 9,
   "id": "908d4c63-4377-4c22-b9e2-faecea0ba350",
   "metadata": {},
   "outputs": [],
   "source": [
    "def task3():\n",
    "    init_states, _ = simulate(120, np.zeros(20), np.full(20, 60))\n",
    "    init_controls = np.array([0, 60] * 120)\n",
    "    optimize(120, init_controls, init_states)"
   ]
  },
  {
   "cell_type": "code",
   "execution_count": 10,
   "id": "f7454265-59ea-45a4-a42f-3715eef2d73a",
   "metadata": {
    "scrolled": true
   },
   "outputs": [
    {
     "name": "stdout",
     "output_type": "stream",
     "text": [
      "| niter |f evals|CG iter|  obj func   |tr radius |   opt    |  c viol  |\n",
      "|-------|-------|-------|-------------|----------|----------|----------|\n",
      "|   1   | 4111  |   0   | +7.3482e+01 | 1.00e+00 | 5.05e-02 | 1.82e+01 |\n",
      "|   2   | 8222  |   1   | +7.3468e+01 | 7.00e+00 | 5.03e-02 | 1.82e+01 |\n",
      "|   3   | 12333 |   2   | +7.3371e+01 | 4.90e+01 | 4.90e-02 | 1.82e+01 |\n",
      "|   4   | 16444 |   5   | +7.1868e+01 | 3.43e+02 | 3.84e-02 | 9.13e+00 |\n",
      "|   5   | 20555 |   9   | +6.7853e+01 | 5.51e+02 | 2.22e-02 | 4.61e+00 |\n",
      "|   6   | 24666 |  13   | +6.5169e+01 | 5.51e+02 | 1.65e-02 | 6.32e+00 |\n",
      "|   7   | 28777 |  17   | +6.1269e+01 | 7.91e+02 | 3.84e-02 | 3.17e+00 |\n",
      "|   8   | 32888 |  23   | +5.8884e+01 | 7.91e+02 | 2.50e-02 | 1.59e+00 |\n",
      "|   9   | 36999 |  31   | +5.4296e+01 | 1.68e+03 | 1.02e-02 | 8.01e-01 |\n",
      "|  10   | 45221 |  37   | +5.4296e+01 | 1.68e+02 | 1.02e-02 | 8.01e-01 |\n",
      "|  11   | 49332 |  40   | +5.4296e+01 | 1.68e+01 | 1.02e-02 | 8.01e-01 |\n",
      "|  12   | 53443 |  41   | +5.4513e+01 | 3.36e+01 | 2.05e-02 | 4.02e-01 |\n",
      "|  13   | 57554 |  43   | +5.4633e+01 | 3.36e+01 | 8.95e-03 | 2.02e-01 |\n",
      "|  14   | 61665 |  46   | +5.4633e+01 | 3.36e+00 | 8.95e-03 | 2.02e-01 |\n",
      "|  15   | 65776 |  48   | +5.4633e+01 | 1.48e+00 | 8.95e-03 | 2.02e-01 |\n",
      "|  16   | 69887 |  49   | +5.4648e+01 | 2.97e+00 | 3.22e-03 | 2.12e-01 |\n",
      "|  17   | 73998 |  50   | +5.4667e+01 | 1.84e+01 | 3.00e-03 | 1.66e-01 |\n",
      "|  18   | 78109 |  51   | +5.4701e+01 | 1.84e+01 | 2.96e-03 | 8.33e-02 |\n",
      "|  19   | 82220 |  52   | +5.4718e+01 | 1.84e+01 | 3.28e-03 | 4.18e-02 |\n"
     ]
    },
    {
     "ename": "KeyboardInterrupt",
     "evalue": "",
     "output_type": "error",
     "traceback": [
      "\u001b[31m---------------------------------------------------------------------------\u001b[39m",
      "\u001b[31mKeyboardInterrupt\u001b[39m                         Traceback (most recent call last)",
      "\u001b[36mCell\u001b[39m\u001b[36m \u001b[39m\u001b[32mIn[10]\u001b[39m\u001b[32m, line 1\u001b[39m\n\u001b[32m----> \u001b[39m\u001b[32m1\u001b[39m \u001b[43mtask3\u001b[49m\u001b[43m(\u001b[49m\u001b[43m)\u001b[49m\n",
      "\u001b[36mCell\u001b[39m\u001b[36m \u001b[39m\u001b[32mIn[9]\u001b[39m\u001b[32m, line 4\u001b[39m, in \u001b[36mtask3\u001b[39m\u001b[34m()\u001b[39m\n\u001b[32m      2\u001b[39m init_states, _ = simulate(\u001b[32m120\u001b[39m, np.zeros(\u001b[32m20\u001b[39m), np.full(\u001b[32m20\u001b[39m, \u001b[32m60\u001b[39m))\n\u001b[32m      3\u001b[39m init_controls = np.array([\u001b[32m0\u001b[39m, \u001b[32m60\u001b[39m] * \u001b[32m120\u001b[39m)\n\u001b[32m----> \u001b[39m\u001b[32m4\u001b[39m \u001b[43moptimize\u001b[49m\u001b[43m(\u001b[49m\u001b[32;43m120\u001b[39;49m\u001b[43m,\u001b[49m\u001b[43m \u001b[49m\u001b[43minit_controls\u001b[49m\u001b[43m,\u001b[49m\u001b[43m \u001b[49m\u001b[43minit_states\u001b[49m\u001b[43m)\u001b[49m\n",
      "\u001b[36mCell\u001b[39m\u001b[36m \u001b[39m\u001b[32mIn[7]\u001b[39m\u001b[32m, line 41\u001b[39m, in \u001b[36moptimize\u001b[39m\u001b[34m(num_step, init_controls, init_states, max_queue, discrete)\u001b[39m\n\u001b[32m     39\u001b[39m     bounds = [(\u001b[32m0\u001b[39m, \u001b[32m1\u001b[39m), (\u001b[32m60\u001b[39m, \u001b[32m120\u001b[39m)] * num_step + ([(\u001b[32m0\u001b[39m, Rho_c)] * \u001b[32m8\u001b[39m + [(\u001b[32m0\u001b[39m, \u001b[32m200\u001b[39m)] * \u001b[32m6\u001b[39m + [(\u001b[32m0\u001b[39m, (np.inf \u001b[38;5;28;01mif\u001b[39;00m \u001b[38;5;129;01mnot\u001b[39;00m max_queue \u001b[38;5;28;01melse\u001b[39;00m \u001b[32m23\u001b[39m + E1 / \u001b[32m6\u001b[39m))])  * (num_step + \u001b[32m1\u001b[39m)\n\u001b[32m     40\u001b[39m     \u001b[38;5;28;01massert\u001b[39;00m \u001b[38;5;28mlen\u001b[39m(init_opt_vars) == \u001b[38;5;28mlen\u001b[39m(bounds)\n\u001b[32m---> \u001b[39m\u001b[32m41\u001b[39m     result = \u001b[43mminimize\u001b[49m\u001b[43m(\u001b[49m\u001b[43mobjective\u001b[49m\u001b[43m,\u001b[49m\u001b[43m \u001b[49m\u001b[43minit_opt_vars\u001b[49m\u001b[43m,\u001b[49m\u001b[43m \u001b[49m\u001b[43mmethod\u001b[49m\u001b[43m=\u001b[49m\u001b[33;43m'\u001b[39;49m\u001b[33;43mtrust-constr\u001b[39;49m\u001b[33;43m'\u001b[39;49m\u001b[43m,\u001b[49m\u001b[43m \u001b[49m\u001b[43mjac\u001b[49m\u001b[43m=\u001b[49m\u001b[33;43m'\u001b[39;49m\u001b[33;43m3-point\u001b[39;49m\u001b[33;43m'\u001b[39;49m\u001b[43m,\u001b[49m\u001b[43m \u001b[49m\u001b[43mhess\u001b[49m\u001b[43m=\u001b[49m\u001b[43mBFGS\u001b[49m\u001b[43m(\u001b[49m\u001b[43m)\u001b[49m\u001b[43m,\u001b[49m\u001b[43m \u001b[49m\u001b[43mbounds\u001b[49m\u001b[43m=\u001b[49m\u001b[43mbounds\u001b[49m\u001b[43m,\u001b[49m\u001b[43m \u001b[49m\u001b[43mconstraints\u001b[49m\u001b[43m=\u001b[49m\u001b[43m[\u001b[49m\u001b[43mnonlinear_contraints\u001b[49m\u001b[43m]\u001b[49m\u001b[43m,\u001b[49m\u001b[43m \u001b[49m\u001b[43moptions\u001b[49m\u001b[43m=\u001b[49m\u001b[43m{\u001b[49m\u001b[33;43m'\u001b[39;49m\u001b[33;43mverbose\u001b[39;49m\u001b[33;43m'\u001b[39;49m\u001b[43m:\u001b[49m\u001b[43m \u001b[49m\u001b[32;43m2\u001b[39;49m\u001b[43m,\u001b[49m\u001b[43m \u001b[49m\u001b[33;43m\"\u001b[39;49m\u001b[33;43mgtol\u001b[39;49m\u001b[33;43m\"\u001b[39;49m\u001b[43m:\u001b[49m\u001b[43m \u001b[49m\u001b[32;43m1e-5\u001b[39;49m\u001b[43m,\u001b[49m\u001b[43m \u001b[49m\u001b[33;43m\"\u001b[39;49m\u001b[33;43mxtol\u001b[39;49m\u001b[33;43m\"\u001b[39;49m\u001b[43m:\u001b[49m\u001b[43m \u001b[49m\u001b[32;43m1e-5\u001b[39;49m\u001b[43m,\u001b[49m\u001b[43m \u001b[49m\u001b[33;43m\"\u001b[39;49m\u001b[33;43mbarrier_tol\u001b[39;49m\u001b[33;43m\"\u001b[39;49m\u001b[43m:\u001b[49m\u001b[43m \u001b[49m\u001b[32;43m1e-7\u001b[39;49m\u001b[43m,\u001b[49m\u001b[43m \u001b[49m\u001b[33;43m\"\u001b[39;49m\u001b[33;43msparse_jacobian\u001b[39;49m\u001b[33;43m\"\u001b[39;49m\u001b[43m:\u001b[49m\u001b[43m \u001b[49m\u001b[38;5;28;43;01mTrue\u001b[39;49;00m\u001b[43m,\u001b[49m\u001b[43m \u001b[49m\u001b[33;43m\"\u001b[39;49m\u001b[33;43mfactorization_method\u001b[39;49m\u001b[33;43m\"\u001b[39;49m\u001b[43m:\u001b[49m\u001b[43m \u001b[49m\u001b[33;43m\"\u001b[39;49m\u001b[33;43mAugmentedSystem\u001b[39;49m\u001b[33;43m\"\u001b[39;49m\u001b[43m,\u001b[49m\u001b[43m \u001b[49m\u001b[33;43m\"\u001b[39;49m\u001b[33;43mmaxiter\u001b[39;49m\u001b[33;43m\"\u001b[39;49m\u001b[43m:\u001b[49m\u001b[43m \u001b[49m\u001b[32;43m100\u001b[39;49m\u001b[43m}\u001b[49m\u001b[43m)\u001b[49m\n\u001b[32m     42\u001b[39m \u001b[38;5;28mprint\u001b[39m(\u001b[33mf\u001b[39m\u001b[33m\"\u001b[39m\u001b[33mSuccess: \u001b[39m\u001b[38;5;132;01m{\u001b[39;00mresult.success\u001b[38;5;132;01m}\u001b[39;00m\u001b[33m, message: \u001b[39m\u001b[38;5;132;01m{\u001b[39;00mresult.message\u001b[38;5;132;01m}\u001b[39;00m\u001b[33m\"\u001b[39m)\n\u001b[32m     43\u001b[39m optimal_opt_vars = result.x\n",
      "\u001b[36mFile \u001b[39m\u001b[32m~/.venv/lib/python3.12/site-packages/scipy/optimize/_minimize.py:799\u001b[39m, in \u001b[36mminimize\u001b[39m\u001b[34m(fun, x0, args, method, jac, hess, hessp, bounds, constraints, tol, callback, options)\u001b[39m\n\u001b[32m    796\u001b[39m     res = _minimize_slsqp(fun, x0, args, jac, bounds,\n\u001b[32m    797\u001b[39m                           constraints, callback=callback, **options)\n\u001b[32m    798\u001b[39m \u001b[38;5;28;01melif\u001b[39;00m meth == \u001b[33m'\u001b[39m\u001b[33mtrust-constr\u001b[39m\u001b[33m'\u001b[39m:\n\u001b[32m--> \u001b[39m\u001b[32m799\u001b[39m     res = \u001b[43m_minimize_trustregion_constr\u001b[49m\u001b[43m(\u001b[49m\u001b[43mfun\u001b[49m\u001b[43m,\u001b[49m\u001b[43m \u001b[49m\u001b[43mx0\u001b[49m\u001b[43m,\u001b[49m\u001b[43m \u001b[49m\u001b[43margs\u001b[49m\u001b[43m,\u001b[49m\u001b[43m \u001b[49m\u001b[43mjac\u001b[49m\u001b[43m,\u001b[49m\u001b[43m \u001b[49m\u001b[43mhess\u001b[49m\u001b[43m,\u001b[49m\u001b[43m \u001b[49m\u001b[43mhessp\u001b[49m\u001b[43m,\u001b[49m\n\u001b[32m    800\u001b[39m \u001b[43m                                       \u001b[49m\u001b[43mbounds\u001b[49m\u001b[43m,\u001b[49m\u001b[43m \u001b[49m\u001b[43mconstraints\u001b[49m\u001b[43m,\u001b[49m\n\u001b[32m    801\u001b[39m \u001b[43m                                       \u001b[49m\u001b[43mcallback\u001b[49m\u001b[43m=\u001b[49m\u001b[43mcallback\u001b[49m\u001b[43m,\u001b[49m\u001b[43m \u001b[49m\u001b[43m*\u001b[49m\u001b[43m*\u001b[49m\u001b[43moptions\u001b[49m\u001b[43m)\u001b[49m\n\u001b[32m    802\u001b[39m \u001b[38;5;28;01melif\u001b[39;00m meth == \u001b[33m'\u001b[39m\u001b[33mdogleg\u001b[39m\u001b[33m'\u001b[39m:\n\u001b[32m    803\u001b[39m     res = _minimize_dogleg(fun, x0, args, jac, hess,\n\u001b[32m    804\u001b[39m                            callback=callback, **options)\n",
      "\u001b[36mFile \u001b[39m\u001b[32m~/.venv/lib/python3.12/site-packages/scipy/optimize/_trustregion_constr/minimize_trustregion_constr.py:544\u001b[39m, in \u001b[36m_minimize_trustregion_constr\u001b[39m\u001b[34m(fun, x0, args, grad, hess, hessp, bounds, constraints, xtol, gtol, barrier_tol, sparse_jacobian, callback, maxiter, verbose, finite_diff_rel_step, initial_constr_penalty, initial_tr_radius, initial_barrier_parameter, initial_barrier_tolerance, factorization_method, disp, workers)\u001b[39m\n\u001b[32m    535\u001b[39m     _, result = equality_constrained_sqp(\n\u001b[32m    536\u001b[39m         fun_and_constr, grad_and_jac, lagrangian_hess,\n\u001b[32m    537\u001b[39m         x0, objective.f, objective.g,\n\u001b[32m   (...)\u001b[39m\u001b[32m    540\u001b[39m         initial_constr_penalty, initial_tr_radius,\n\u001b[32m    541\u001b[39m         factorization_method)\n\u001b[32m    543\u001b[39m \u001b[38;5;28;01melif\u001b[39;00m method == \u001b[33m'\u001b[39m\u001b[33mtr_interior_point\u001b[39m\u001b[33m'\u001b[39m:\n\u001b[32m--> \u001b[39m\u001b[32m544\u001b[39m     _, result = \u001b[43mtr_interior_point\u001b[49m\u001b[43m(\u001b[49m\n\u001b[32m    545\u001b[39m \u001b[43m        \u001b[49m\u001b[43mobjective\u001b[49m\u001b[43m.\u001b[49m\u001b[43mfun\u001b[49m\u001b[43m,\u001b[49m\u001b[43m \u001b[49m\u001b[43mobjective\u001b[49m\u001b[43m.\u001b[49m\u001b[43mgrad\u001b[49m\u001b[43m,\u001b[49m\u001b[43m \u001b[49m\u001b[43mlagrangian_hess\u001b[49m\u001b[43m,\u001b[49m\n\u001b[32m    546\u001b[39m \u001b[43m        \u001b[49m\u001b[43mn_vars\u001b[49m\u001b[43m,\u001b[49m\u001b[43m \u001b[49m\u001b[43mcanonical\u001b[49m\u001b[43m.\u001b[49m\u001b[43mn_ineq\u001b[49m\u001b[43m,\u001b[49m\u001b[43m \u001b[49m\u001b[43mcanonical\u001b[49m\u001b[43m.\u001b[49m\u001b[43mn_eq\u001b[49m\u001b[43m,\u001b[49m\n\u001b[32m    547\u001b[39m \u001b[43m        \u001b[49m\u001b[43mcanonical\u001b[49m\u001b[43m.\u001b[49m\u001b[43mfun\u001b[49m\u001b[43m,\u001b[49m\u001b[43m \u001b[49m\u001b[43mcanonical\u001b[49m\u001b[43m.\u001b[49m\u001b[43mjac\u001b[49m\u001b[43m,\u001b[49m\n\u001b[32m    548\u001b[39m \u001b[43m        \u001b[49m\u001b[43mx0\u001b[49m\u001b[43m,\u001b[49m\u001b[43m \u001b[49m\u001b[43mobjective\u001b[49m\u001b[43m.\u001b[49m\u001b[43mf\u001b[49m\u001b[43m,\u001b[49m\u001b[43m \u001b[49m\u001b[43mobjective\u001b[49m\u001b[43m.\u001b[49m\u001b[43mg\u001b[49m\u001b[43m,\u001b[49m\n\u001b[32m    549\u001b[39m \u001b[43m        \u001b[49m\u001b[43mc_ineq0\u001b[49m\u001b[43m,\u001b[49m\u001b[43m \u001b[49m\u001b[43mJ_ineq0\u001b[49m\u001b[43m,\u001b[49m\u001b[43m \u001b[49m\u001b[43mc_eq0\u001b[49m\u001b[43m,\u001b[49m\u001b[43m \u001b[49m\u001b[43mJ_eq0\u001b[49m\u001b[43m,\u001b[49m\n\u001b[32m    550\u001b[39m \u001b[43m        \u001b[49m\u001b[43mstop_criteria\u001b[49m\u001b[43m,\u001b[49m\n\u001b[32m    551\u001b[39m \u001b[43m        \u001b[49m\u001b[43mcanonical\u001b[49m\u001b[43m.\u001b[49m\u001b[43mkeep_feasible\u001b[49m\u001b[43m,\u001b[49m\n\u001b[32m    552\u001b[39m \u001b[43m        \u001b[49m\u001b[43mxtol\u001b[49m\u001b[43m,\u001b[49m\u001b[43m \u001b[49m\u001b[43mstate\u001b[49m\u001b[43m,\u001b[49m\u001b[43m \u001b[49m\u001b[43minitial_barrier_parameter\u001b[49m\u001b[43m,\u001b[49m\n\u001b[32m    553\u001b[39m \u001b[43m        \u001b[49m\u001b[43minitial_barrier_tolerance\u001b[49m\u001b[43m,\u001b[49m\n\u001b[32m    554\u001b[39m \u001b[43m        \u001b[49m\u001b[43minitial_constr_penalty\u001b[49m\u001b[43m,\u001b[49m\u001b[43m \u001b[49m\u001b[43minitial_tr_radius\u001b[49m\u001b[43m,\u001b[49m\n\u001b[32m    555\u001b[39m \u001b[43m        \u001b[49m\u001b[43mfactorization_method\u001b[49m\u001b[43m,\u001b[49m\u001b[43m \u001b[49m\u001b[43mfinite_diff_bounds\u001b[49m\u001b[43m)\u001b[49m\n\u001b[32m    557\u001b[39m \u001b[38;5;66;03m# Status 4 occurs when minimize is successful but constraints are not satisfied.\u001b[39;00m\n\u001b[32m    558\u001b[39m \u001b[38;5;28;01mif\u001b[39;00m result.status \u001b[38;5;129;01min\u001b[39;00m (\u001b[32m1\u001b[39m, \u001b[32m2\u001b[39m) \u001b[38;5;129;01mand\u001b[39;00m state.constr_violation > gtol:\n",
      "\u001b[36mFile \u001b[39m\u001b[32m~/.venv/lib/python3.12/site-packages/scipy/optimize/_trustregion_constr/tr_interior_point.py:336\u001b[39m, in \u001b[36mtr_interior_point\u001b[39m\u001b[34m(fun, grad, lagr_hess, n_vars, n_ineq, n_eq, constr, jac, x0, fun0, grad0, constr_ineq0, jac_ineq0, constr_eq0, jac_eq0, stop_criteria, enforce_feasibility, xtol, state, initial_barrier_parameter, initial_tolerance, initial_penalty, initial_trust_radius, factorization_method, finite_diff_bounds)\u001b[39m\n\u001b[32m    333\u001b[39m \u001b[38;5;66;03m# Solves a sequence of barrier problems\u001b[39;00m\n\u001b[32m    334\u001b[39m \u001b[38;5;28;01mwhile\u001b[39;00m \u001b[38;5;28;01mTrue\u001b[39;00m:\n\u001b[32m    335\u001b[39m     \u001b[38;5;66;03m# Solve SQP subproblem\u001b[39;00m\n\u001b[32m--> \u001b[39m\u001b[32m336\u001b[39m     z, state = \u001b[43mequality_constrained_sqp\u001b[49m\u001b[43m(\u001b[49m\n\u001b[32m    337\u001b[39m \u001b[43m        \u001b[49m\u001b[43msubprob\u001b[49m\u001b[43m.\u001b[49m\u001b[43mfunction_and_constraints\u001b[49m\u001b[43m,\u001b[49m\n\u001b[32m    338\u001b[39m \u001b[43m        \u001b[49m\u001b[43msubprob\u001b[49m\u001b[43m.\u001b[49m\u001b[43mgradient_and_jacobian\u001b[49m\u001b[43m,\u001b[49m\n\u001b[32m    339\u001b[39m \u001b[43m        \u001b[49m\u001b[43msubprob\u001b[49m\u001b[43m.\u001b[49m\u001b[43mlagrangian_hessian\u001b[49m\u001b[43m,\u001b[49m\n\u001b[32m    340\u001b[39m \u001b[43m        \u001b[49m\u001b[43mz\u001b[49m\u001b[43m,\u001b[49m\u001b[43m \u001b[49m\u001b[43mfun0_subprob\u001b[49m\u001b[43m,\u001b[49m\u001b[43m \u001b[49m\u001b[43mgrad0_subprob\u001b[49m\u001b[43m,\u001b[49m\n\u001b[32m    341\u001b[39m \u001b[43m        \u001b[49m\u001b[43mconstr0_subprob\u001b[49m\u001b[43m,\u001b[49m\u001b[43m \u001b[49m\u001b[43mjac0_subprob\u001b[49m\u001b[43m,\u001b[49m\u001b[43m \u001b[49m\u001b[43msubprob\u001b[49m\u001b[43m.\u001b[49m\u001b[43mstop_criteria\u001b[49m\u001b[43m,\u001b[49m\n\u001b[32m    342\u001b[39m \u001b[43m        \u001b[49m\u001b[43mstate\u001b[49m\u001b[43m,\u001b[49m\u001b[43m \u001b[49m\u001b[43minitial_penalty\u001b[49m\u001b[43m,\u001b[49m\u001b[43m \u001b[49m\u001b[43mtrust_radius\u001b[49m\u001b[43m,\u001b[49m\n\u001b[32m    343\u001b[39m \u001b[43m        \u001b[49m\u001b[43mfactorization_method\u001b[49m\u001b[43m,\u001b[49m\u001b[43m \u001b[49m\u001b[43mtrust_lb\u001b[49m\u001b[43m,\u001b[49m\u001b[43m \u001b[49m\u001b[43mtrust_ub\u001b[49m\u001b[43m,\u001b[49m\u001b[43m \u001b[49m\u001b[43msubprob\u001b[49m\u001b[43m.\u001b[49m\u001b[43mscaling\u001b[49m\u001b[43m)\u001b[49m\n\u001b[32m    344\u001b[39m     \u001b[38;5;28;01mif\u001b[39;00m subprob.terminate:\n\u001b[32m    345\u001b[39m         \u001b[38;5;28;01mbreak\u001b[39;00m\n",
      "\u001b[36mFile \u001b[39m\u001b[32m~/.venv/lib/python3.12/site-packages/scipy/optimize/_trustregion_constr/equality_constrained_sqp.py:161\u001b[39m, in \u001b[36mequality_constrained_sqp\u001b[39m\u001b[34m(fun_and_constr, grad_and_jac, lagr_hess, x0, fun0, grad0, constr0, jac0, stop_criteria, state, initial_penalty, initial_trust_radius, factorization_method, trust_lb, trust_ub, scaling)\u001b[39m\n\u001b[32m    159\u001b[39m \u001b[38;5;66;03m# Evaluate function and constraints at trial point\u001b[39;00m\n\u001b[32m    160\u001b[39m x_next = x + S.dot(d)\n\u001b[32m--> \u001b[39m\u001b[32m161\u001b[39m f_next, b_next = \u001b[43mfun_and_constr\u001b[49m\u001b[43m(\u001b[49m\u001b[43mx_next\u001b[49m\u001b[43m)\u001b[49m\n\u001b[32m    162\u001b[39m \u001b[38;5;66;03m# Compute merit function at trial point\u001b[39;00m\n\u001b[32m    163\u001b[39m merit_function_next = f_next + penalty*norm(b_next)\n",
      "\u001b[36mFile \u001b[39m\u001b[32m~/.venv/lib/python3.12/site-packages/scipy/optimize/_trustregion_constr/tr_interior_point.py:96\u001b[39m, in \u001b[36mBarrierSubproblem.function_and_constraints\u001b[39m\u001b[34m(self, z)\u001b[39m\n\u001b[32m     94\u001b[39m \u001b[38;5;28;01melse\u001b[39;00m:\n\u001b[32m     95\u001b[39m     f = \u001b[38;5;28mself\u001b[39m.fun(x)\n\u001b[32m---> \u001b[39m\u001b[32m96\u001b[39m     c_eq, c_ineq = \u001b[38;5;28;43mself\u001b[39;49m\u001b[43m.\u001b[49m\u001b[43mconstr\u001b[49m\u001b[43m(\u001b[49m\u001b[43mx\u001b[49m\u001b[43m)\u001b[49m\n\u001b[32m     98\u001b[39m \u001b[38;5;66;03m# Return objective function and constraints\u001b[39;00m\n\u001b[32m     99\u001b[39m \u001b[38;5;28;01mreturn\u001b[39;00m (\u001b[38;5;28mself\u001b[39m._compute_function(f, c_ineq, s),\n\u001b[32m    100\u001b[39m         \u001b[38;5;28mself\u001b[39m._compute_constr(c_ineq, c_eq, s))\n",
      "\u001b[36mFile \u001b[39m\u001b[32m~/.venv/lib/python3.12/site-packages/scipy/optimize/_trustregion_constr/canonical_constraint.py:104\u001b[39m, in \u001b[36mCanonicalConstraint.concatenate.<locals>.fun\u001b[39m\u001b[34m(x)\u001b[39m\n\u001b[32m    101\u001b[39m \u001b[38;5;28;01mdef\u001b[39;00m\u001b[38;5;250m \u001b[39m\u001b[34mfun\u001b[39m(x):\n\u001b[32m    102\u001b[39m     \u001b[38;5;28;01mif\u001b[39;00m canonical_constraints:\n\u001b[32m    103\u001b[39m         eq_all, ineq_all = \u001b[38;5;28mzip\u001b[39m(\n\u001b[32m--> \u001b[39m\u001b[32m104\u001b[39m                 *[\u001b[43mc\u001b[49m\u001b[43m.\u001b[49m\u001b[43mfun\u001b[49m\u001b[43m(\u001b[49m\u001b[43mx\u001b[49m\u001b[43m)\u001b[49m \u001b[38;5;28;01mfor\u001b[39;00m c \u001b[38;5;129;01min\u001b[39;00m canonical_constraints])\n\u001b[32m    105\u001b[39m     \u001b[38;5;28;01melse\u001b[39;00m:\n\u001b[32m    106\u001b[39m         eq_all, ineq_all = [], []\n",
      "\u001b[36mFile \u001b[39m\u001b[32m~/.venv/lib/python3.12/site-packages/scipy/optimize/_trustregion_constr/canonical_constraint.py:166\u001b[39m, in \u001b[36mCanonicalConstraint._equal_to_canonical.<locals>.fun\u001b[39m\u001b[34m(x)\u001b[39m\n\u001b[32m    165\u001b[39m \u001b[38;5;28;01mdef\u001b[39;00m\u001b[38;5;250m \u001b[39m\u001b[34mfun\u001b[39m(x):\n\u001b[32m--> \u001b[39m\u001b[32m166\u001b[39m     \u001b[38;5;28;01mreturn\u001b[39;00m \u001b[43mcfun\u001b[49m\u001b[43m.\u001b[49m\u001b[43mfun\u001b[49m\u001b[43m(\u001b[49m\u001b[43mx\u001b[49m\u001b[43m)\u001b[49m - value, empty_fun\n",
      "\u001b[36mFile \u001b[39m\u001b[32m~/.venv/lib/python3.12/site-packages/scipy/optimize/_differentiable_functions.py:733\u001b[39m, in \u001b[36mVectorFunction.fun\u001b[39m\u001b[34m(self, x)\u001b[39m\n\u001b[32m    732\u001b[39m \u001b[38;5;28;01mdef\u001b[39;00m\u001b[38;5;250m \u001b[39m\u001b[34mfun\u001b[39m(\u001b[38;5;28mself\u001b[39m, x):\n\u001b[32m--> \u001b[39m\u001b[32m733\u001b[39m     \u001b[38;5;28;43mself\u001b[39;49m\u001b[43m.\u001b[49m\u001b[43m_update_x\u001b[49m\u001b[43m(\u001b[49m\u001b[43mx\u001b[49m\u001b[43m)\u001b[49m\n\u001b[32m    734\u001b[39m     \u001b[38;5;28mself\u001b[39m._update_fun()\n\u001b[32m    735\u001b[39m     \u001b[38;5;66;03m# returns a copy so that downstream can't overwrite the\u001b[39;00m\n\u001b[32m    736\u001b[39m     \u001b[38;5;66;03m# internal attribute\u001b[39;00m\n",
      "\u001b[36mFile \u001b[39m\u001b[32m~/.venv/lib/python3.12/site-packages/scipy/optimize/_differentiable_functions.py:688\u001b[39m, in \u001b[36mVectorFunction._update_x\u001b[39m\u001b[34m(self, x)\u001b[39m\n\u001b[32m    686\u001b[39m     \u001b[38;5;28mself\u001b[39m.J_updated = \u001b[38;5;28;01mFalse\u001b[39;00m\n\u001b[32m    687\u001b[39m     \u001b[38;5;28mself\u001b[39m.H_updated = \u001b[38;5;28;01mFalse\u001b[39;00m\n\u001b[32m--> \u001b[39m\u001b[32m688\u001b[39m     \u001b[38;5;28;43mself\u001b[39;49m\u001b[43m.\u001b[49m\u001b[43m_update_hess\u001b[49m\u001b[43m(\u001b[49m\u001b[43m)\u001b[49m\n\u001b[32m    689\u001b[39m \u001b[38;5;28;01melse\u001b[39;00m:\n\u001b[32m    690\u001b[39m     _x = xpx.atleast_nd(\u001b[38;5;28mself\u001b[39m.xp.asarray(x), ndim=\u001b[32m1\u001b[39m, xp=\u001b[38;5;28mself\u001b[39m.xp)\n",
      "\u001b[36mFile \u001b[39m\u001b[32m~/.venv/lib/python3.12/site-packages/scipy/optimize/_differentiable_functions.py:722\u001b[39m, in \u001b[36mVectorFunction._update_hess\u001b[39m\u001b[34m(self)\u001b[39m\n\u001b[32m    720\u001b[39m     \u001b[38;5;28mself\u001b[39m.H = \u001b[38;5;28mself\u001b[39m.hess_wrapped(xp_copy(\u001b[38;5;28mself\u001b[39m.x), \u001b[38;5;28mself\u001b[39m.v, J0=\u001b[38;5;28mself\u001b[39m.J)\n\u001b[32m    721\u001b[39m \u001b[38;5;28;01melif\u001b[39;00m \u001b[38;5;28misinstance\u001b[39m(\u001b[38;5;28mself\u001b[39m._orig_hess, HessianUpdateStrategy):\n\u001b[32m--> \u001b[39m\u001b[32m722\u001b[39m     \u001b[38;5;28;43mself\u001b[39;49m\u001b[43m.\u001b[49m\u001b[43m_update_jac\u001b[49m\u001b[43m(\u001b[49m\u001b[43m)\u001b[49m\n\u001b[32m    723\u001b[39m     \u001b[38;5;66;03m# When v is updated before x was updated, then x_prev and\u001b[39;00m\n\u001b[32m    724\u001b[39m     \u001b[38;5;66;03m# J_prev are None and we need this check.\u001b[39;00m\n\u001b[32m    725\u001b[39m     \u001b[38;5;28;01mif\u001b[39;00m \u001b[38;5;28mself\u001b[39m.x_prev \u001b[38;5;129;01mis\u001b[39;00m \u001b[38;5;129;01mnot\u001b[39;00m \u001b[38;5;28;01mNone\u001b[39;00m \u001b[38;5;129;01mand\u001b[39;00m \u001b[38;5;28mself\u001b[39m.J_prev \u001b[38;5;129;01mis\u001b[39;00m \u001b[38;5;129;01mnot\u001b[39;00m \u001b[38;5;28;01mNone\u001b[39;00m:\n",
      "\u001b[36mFile \u001b[39m\u001b[32m~/.venv/lib/python3.12/site-packages/scipy/optimize/_differentiable_functions.py:710\u001b[39m, in \u001b[36mVectorFunction._update_jac\u001b[39m\u001b[34m(self)\u001b[39m\n\u001b[32m    707\u001b[39m \u001b[38;5;28;01melse\u001b[39;00m:\n\u001b[32m    708\u001b[39m     \u001b[38;5;28mself\u001b[39m._njev += \u001b[32m1\u001b[39m\n\u001b[32m--> \u001b[39m\u001b[32m710\u001b[39m \u001b[38;5;28mself\u001b[39m.J = \u001b[38;5;28;43mself\u001b[39;49m\u001b[43m.\u001b[49m\u001b[43mjac_wrapped\u001b[49m\u001b[43m(\u001b[49m\u001b[43mxp_copy\u001b[49m\u001b[43m(\u001b[49m\u001b[38;5;28;43mself\u001b[39;49m\u001b[43m.\u001b[49m\u001b[43mx\u001b[49m\u001b[43m)\u001b[49m\u001b[43m,\u001b[49m\u001b[43m \u001b[49m\u001b[43mf0\u001b[49m\u001b[43m=\u001b[49m\u001b[38;5;28;43mself\u001b[39;49m\u001b[43m.\u001b[49m\u001b[43mf\u001b[49m\u001b[43m)\u001b[49m\n\u001b[32m    711\u001b[39m \u001b[38;5;28mself\u001b[39m.J_updated = \u001b[38;5;28;01mTrue\u001b[39;00m\n",
      "\u001b[36mFile \u001b[39m\u001b[32m~/.venv/lib/python3.12/site-packages/scipy/optimize/_differentiable_functions.py:445\u001b[39m, in \u001b[36m_VectorJacWrapper.__call__\u001b[39m\u001b[34m(self, x, f0, **kwds)\u001b[39m\n\u001b[32m    443\u001b[39m     \u001b[38;5;28mself\u001b[39m.njev += \u001b[32m1\u001b[39m\n\u001b[32m    444\u001b[39m \u001b[38;5;28;01melif\u001b[39;00m \u001b[38;5;28mself\u001b[39m.jac \u001b[38;5;129;01min\u001b[39;00m FD_METHODS:\n\u001b[32m--> \u001b[39m\u001b[32m445\u001b[39m     J, dct = \u001b[43mapprox_derivative\u001b[49m\u001b[43m(\u001b[49m\n\u001b[32m    446\u001b[39m \u001b[43m        \u001b[49m\u001b[38;5;28;43mself\u001b[39;49m\u001b[43m.\u001b[49m\u001b[43mfun\u001b[49m\u001b[43m,\u001b[49m\n\u001b[32m    447\u001b[39m \u001b[43m        \u001b[49m\u001b[43mx\u001b[49m\u001b[43m,\u001b[49m\n\u001b[32m    448\u001b[39m \u001b[43m        \u001b[49m\u001b[43mf0\u001b[49m\u001b[43m=\u001b[49m\u001b[43mf0\u001b[49m\u001b[43m,\u001b[49m\n\u001b[32m    449\u001b[39m \u001b[43m        \u001b[49m\u001b[43m*\u001b[49m\u001b[43m*\u001b[49m\u001b[38;5;28;43mself\u001b[39;49m\u001b[43m.\u001b[49m\u001b[43mfinite_diff_options\u001b[49m\u001b[43m,\u001b[49m\n\u001b[32m    450\u001b[39m \u001b[43m    \u001b[49m\u001b[43m)\u001b[49m\n\u001b[32m    451\u001b[39m     \u001b[38;5;28mself\u001b[39m.nfev += dct[\u001b[33m'\u001b[39m\u001b[33mnfev\u001b[39m\u001b[33m'\u001b[39m]\n\u001b[32m    453\u001b[39m \u001b[38;5;28;01mif\u001b[39;00m \u001b[38;5;28mself\u001b[39m.sparse_jacobian:\n",
      "\u001b[36mFile \u001b[39m\u001b[32m~/.venv/lib/python3.12/site-packages/scipy/optimize/_numdiff.py:593\u001b[39m, in \u001b[36mapprox_derivative\u001b[39m\u001b[34m(fun, x0, method, rel_step, abs_step, f0, bounds, sparsity, as_linear_operator, args, kwargs, full_output, workers)\u001b[39m\n\u001b[32m    591\u001b[39m \u001b[38;5;28;01mwith\u001b[39;00m MapWrapper(workers) \u001b[38;5;28;01mas\u001b[39;00m mf:\n\u001b[32m    592\u001b[39m     \u001b[38;5;28;01mif\u001b[39;00m sparsity \u001b[38;5;129;01mis\u001b[39;00m \u001b[38;5;28;01mNone\u001b[39;00m:\n\u001b[32m--> \u001b[39m\u001b[32m593\u001b[39m         J, _nfev = \u001b[43m_dense_difference\u001b[49m\u001b[43m(\u001b[49m\u001b[43mfun_wrapped\u001b[49m\u001b[43m,\u001b[49m\u001b[43m \u001b[49m\u001b[43mx0\u001b[49m\u001b[43m,\u001b[49m\u001b[43m \u001b[49m\u001b[43mf0\u001b[49m\u001b[43m,\u001b[49m\u001b[43m \u001b[49m\u001b[43mh\u001b[49m\u001b[43m,\u001b[49m\n\u001b[32m    594\u001b[39m \u001b[43m                                 \u001b[49m\u001b[43muse_one_sided\u001b[49m\u001b[43m,\u001b[49m\u001b[43m \u001b[49m\u001b[43mmethod\u001b[49m\u001b[43m,\u001b[49m\n\u001b[32m    595\u001b[39m \u001b[43m                                 \u001b[49m\u001b[43mmf\u001b[49m\u001b[43m)\u001b[49m\n\u001b[32m    596\u001b[39m     \u001b[38;5;28;01melse\u001b[39;00m:\n\u001b[32m    597\u001b[39m         \u001b[38;5;28;01mif\u001b[39;00m \u001b[38;5;129;01mnot\u001b[39;00m issparse(sparsity) \u001b[38;5;129;01mand\u001b[39;00m \u001b[38;5;28mlen\u001b[39m(sparsity) == \u001b[32m2\u001b[39m:\n",
      "\u001b[36mFile \u001b[39m\u001b[32m~/.venv/lib/python3.12/site-packages/scipy/optimize/_numdiff.py:714\u001b[39m, in \u001b[36m_dense_difference\u001b[39m\u001b[34m(fun, x0, f0, h, use_one_sided, method, workers)\u001b[39m\n\u001b[32m    711\u001b[39m l = \u001b[38;5;28mnext\u001b[39m(gen)\n\u001b[32m    712\u001b[39m u = \u001b[38;5;28mnext\u001b[39m(gen)\n\u001b[32m--> \u001b[39m\u001b[32m714\u001b[39m f1 = \u001b[38;5;28;43mnext\u001b[39;49m\u001b[43m(\u001b[49m\u001b[43mf_evals\u001b[49m\u001b[43m)\u001b[49m\n\u001b[32m    715\u001b[39m f2 = \u001b[38;5;28mnext\u001b[39m(f_evals)\n\u001b[32m    716\u001b[39m \u001b[38;5;28;01mif\u001b[39;00m one_sided:\n",
      "\u001b[36mFile \u001b[39m\u001b[32m~/.venv/lib/python3.12/site-packages/scipy/optimize/_numdiff.py:879\u001b[39m, in \u001b[36m_Fun_Wrapper.__call__\u001b[39m\u001b[34m(self, x)\u001b[39m\n\u001b[32m    876\u001b[39m \u001b[38;5;28;01mif\u001b[39;00m xp.isdtype(x.dtype, \u001b[33m\"\u001b[39m\u001b[33mreal floating\u001b[39m\u001b[33m\"\u001b[39m):\n\u001b[32m    877\u001b[39m     x = xp.astype(x, \u001b[38;5;28mself\u001b[39m.x0.dtype)\n\u001b[32m--> \u001b[39m\u001b[32m879\u001b[39m f = np.atleast_1d(\u001b[38;5;28;43mself\u001b[39;49m\u001b[43m.\u001b[49m\u001b[43mfun\u001b[49m\u001b[43m(\u001b[49m\u001b[43mx\u001b[49m\u001b[43m,\u001b[49m\u001b[43m \u001b[49m\u001b[43m*\u001b[49m\u001b[38;5;28;43mself\u001b[39;49m\u001b[43m.\u001b[49m\u001b[43margs\u001b[49m\u001b[43m,\u001b[49m\u001b[43m \u001b[49m\u001b[43m*\u001b[49m\u001b[43m*\u001b[49m\u001b[38;5;28;43mself\u001b[39;49m\u001b[43m.\u001b[49m\u001b[43mkwargs\u001b[49m\u001b[43m)\u001b[49m)\n\u001b[32m    880\u001b[39m \u001b[38;5;28;01mif\u001b[39;00m f.ndim > \u001b[32m1\u001b[39m:\n\u001b[32m    881\u001b[39m     \u001b[38;5;28;01mraise\u001b[39;00m \u001b[38;5;167;01mRuntimeError\u001b[39;00m(\u001b[33m\"\u001b[39m\u001b[33m`fun` return value has \u001b[39m\u001b[33m\"\u001b[39m\n\u001b[32m    882\u001b[39m                        \u001b[33m\"\u001b[39m\u001b[33mmore than 1 dimension.\u001b[39m\u001b[33m\"\u001b[39m)\n",
      "\u001b[36mFile \u001b[39m\u001b[32m~/.venv/lib/python3.12/site-packages/scipy/optimize/_differentiable_functions.py:415\u001b[39m, in \u001b[36m_VectorFunWrapper.__call__\u001b[39m\u001b[34m(self, x)\u001b[39m\n\u001b[32m    413\u001b[39m \u001b[38;5;28;01mdef\u001b[39;00m\u001b[38;5;250m \u001b[39m\u001b[34m__call__\u001b[39m(\u001b[38;5;28mself\u001b[39m, x):\n\u001b[32m    414\u001b[39m     \u001b[38;5;28mself\u001b[39m.nfev += \u001b[32m1\u001b[39m\n\u001b[32m--> \u001b[39m\u001b[32m415\u001b[39m     \u001b[38;5;28;01mreturn\u001b[39;00m np.atleast_1d(\u001b[38;5;28;43mself\u001b[39;49m\u001b[43m.\u001b[49m\u001b[43mfun\u001b[49m\u001b[43m(\u001b[49m\u001b[43mx\u001b[49m\u001b[43m)\u001b[49m)\n",
      "\u001b[36mCell\u001b[39m\u001b[36m \u001b[39m\u001b[32mIn[7]\u001b[39m\u001b[32m, line 23\u001b[39m, in \u001b[36moptimize.<locals>.dynamics_constraint\u001b[39m\u001b[34m(opt_vars)\u001b[39m\n\u001b[32m     20\u001b[39m \u001b[38;5;28;01mfor\u001b[39;00m i \u001b[38;5;129;01min\u001b[39;00m \u001b[38;5;28mrange\u001b[39m(\u001b[32m0\u001b[39m, num_step):\n\u001b[32m     21\u001b[39m     \u001b[38;5;66;03m# Speed contraints: same with speed dynamics\u001b[39;00m\n\u001b[32m     22\u001b[39m     \u001b[38;5;28;01mfor\u001b[39;00m j \u001b[38;5;129;01min\u001b[39;00m \u001b[38;5;28mrange\u001b[39m(\u001b[32m1\u001b[39m, \u001b[32m7\u001b[39m):\n\u001b[32m---> \u001b[39m\u001b[32m23\u001b[39m         results[i*Ndim+j+\u001b[32m7\u001b[39m] = _speed_dynamics(states, controls, i, j) - states[i, j+\u001b[32m7\u001b[39m]\n\u001b[32m     24\u001b[39m     \u001b[38;5;66;03m# Initial density constraints: v_0(k) = v_1(k), q_0(k) = lambda * rho_0(k) * v_0(k)\u001b[39;00m\n\u001b[32m     25\u001b[39m     results[i*Ndim] = _init_density(states, i) - states[i, \u001b[32m0\u001b[39m]\n",
      "\u001b[31mKeyboardInterrupt\u001b[39m: "
     ]
    }
   ],
   "source": [
    "task3()"
   ]
  }
 ],
 "metadata": {
  "kernelspec": {
   "display_name": "Python 3 (ipykernel)",
   "language": "python",
   "name": "python3"
  },
  "language_info": {
   "codemirror_mode": {
    "name": "ipython",
    "version": 3
   },
   "file_extension": ".py",
   "mimetype": "text/x-python",
   "name": "python",
   "nbconvert_exporter": "python",
   "pygments_lexer": "ipython3",
   "version": "3.12.3"
  }
 },
 "nbformat": 4,
 "nbformat_minor": 5
}
