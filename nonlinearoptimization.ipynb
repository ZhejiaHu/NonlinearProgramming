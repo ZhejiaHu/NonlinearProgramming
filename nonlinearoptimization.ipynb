{
 "cells": [
  {
   "cell_type": "code",
   "execution_count": 1,
   "id": "9f8847709da9eb07",
   "metadata": {
    "ExecuteTime": {
     "end_time": "2025-10-12T13:36:35.057109Z",
     "start_time": "2025-10-12T13:36:35.053374Z"
    }
   },
   "outputs": [],
   "source": [
    "import numpy as np\n",
    "from scipy.optimize import minimize, NonlinearConstraint, BFGS\n",
    "import sys\n",
    "from functools import reduce\n",
    "from typing import Tuple, List \n",
    "np.set_printoptions(threshold=sys.maxsize)"
   ]
  },
  {
   "cell_type": "markdown",
   "id": "cbd7ac84-0299-4f35-a04a-bc93e160ed44",
   "metadata": {},
   "source": [
    "##### Simulation and Optimization Code"
   ]
  },
  {
   "cell_type": "code",
   "execution_count": 2,
   "id": "653517db20b00072",
   "metadata": {},
   "outputs": [],
   "source": [
    "# Global hyperparameters\n",
    "E1, E2, E3 = 1, 2, 3\n",
    "Ndim = 15   # 1-7 rho for segment 1-6, with 0, 7 dummy segment 0, 7 for rho, 8-13 v for segment 1-7, 14 w_r\n",
    "T, L, Lambda, D_r = 1 / 360, 1, 2, 1500\n",
    "Tau, Mu, C_r, Rho_m, Alpha, K, A, V_f, Rho_c = 19, 60, 2000, 120, 0.1, 40, 1.867, 120, 33 + E1 / 3"
   ]
  },
  {
   "cell_type": "code",
   "execution_count": 3,
   "id": "2f499607-1db4-40b9-a431-2dc4fc4ca505",
   "metadata": {},
   "outputs": [],
   "source": [
    "# Utility method (softmax min)\n",
    "def soft_min(xs: List, beta: float=50.0):\n",
    "    nx = np.array(xs)\n",
    "    m = np.min(nx)\n",
    "    return m - (1.0 / beta) * np.log(np.sum(np.exp(-beta * (nx - m))))"
   ]
  },
  {
   "cell_type": "code",
   "execution_count": 4,
   "id": "fee80497-fa44-4b8d-bcc9-f5c694803b6a",
   "metadata": {},
   "outputs": [],
   "source": [
    "# Wrap up sophisticated functions in the simulation as well as optimization to produce less bugs\n",
    "def _observation(states: np.ndarray, i: int):\n",
    "    return T * states[i, -1] + T * L * Lambda * np.sum(states[i, 1:7])\n",
    "\n",
    "def _speed_dynamics(states: np.ndarray, control_inputs: np.ndarray, i: int, j: int):\n",
    "    prv_desired_speed = V_f * np.exp(-np.pow(-soft_min([-states[i-1, j], 0]) / Rho_c, A) / A)\n",
    "    prv_V = soft_min([(1 + Alpha) * control_inputs[i-1, 0].item(), prv_desired_speed]) if j == 2 or j == 3 else prv_desired_speed\n",
    "    return states[i-1, j+7] + T / Tau * (prv_V - states[i-1, j+7]) + T / L * states[i-1, j+7] * ((states[i-1, j+6] - states[i-1, j+7]) if j > 1 else 0) - (Mu * T * (states[i-1, j+1] - states[i-1, j])) / (Tau * L * (states[i-1, j] + K))\n",
    "\n",
    "def _init_density(states: np.ndarray, i: int):\n",
    "    v_0, cur_q_0 = states[i, 8], (3000 + 50 * E2) if i < 60 else (1000 + 50 * E2)\n",
    "    return cur_q_0 / (Lambda * v_0)\n",
    "\n",
    "def _density_dynamics(states: np.ndarray, i: int, j: int):\n",
    "    return states[i-1, j] + T / L * states[i-1, j-1] * (states[i-1, j-1+7] if j > 1 else states[i-1, 8]) - T / L * states[i-1, j] * states[i-1, j+7]\n",
    "\n",
    "def _ramp_density(states: np.ndarray, control_inputs: np.ndarray, i: int):\n",
    "    return soft_min([control_inputs[i-1, 1].item() * C_r, D_r + states[i-1, -1].item() / T, C_r * (Rho_m - states[i-1, 5].item()) / (Rho_m - Rho_c)])\n",
    "\n",
    "def _add_ramp_up(states: np.ndarray, control_inputs: np.ndarray, i: int):\n",
    "    return T / (Lambda * L) * _ramp_density(states, control_inputs, i)\n",
    "\n",
    "def _queue_length_dynamics(states: np.ndarray, control_inputs: np.ndarray, i: int):\n",
    "    return max(0, states[i-1, -1] + T * (D_r - _ramp_density(states, control_inputs, i)))"
   ]
  },
  {
   "cell_type": "code",
   "execution_count": 5,
   "id": "cb5728d0-2201-448e-b2a2-818c24ed8510",
   "metadata": {},
   "outputs": [],
   "source": [
    "def simulate(num_step: int=120, vsl_: np.array=None, r_: np.array=None):\n",
    "    vsl, r = np.repeat(vsl_, 6), np.repeat(r_, 6)\n",
    "    assert len(vsl) == num_step\n",
    "    control_inputs: np.ndarray = np.column_stack((vsl, r))\n",
    "    states, outputs = np.zeros(shape=(num_step+1, Ndim)), np.zeros(shape=num_step+1)\n",
    "    # Time boundary conditions\n",
    "    states[0, 0] = 25\n",
    "    for i in range(1, 8): states[0, i], states[0, i+7] = 25, 80\n",
    "    states[0, -1] = 0\n",
    "    # Time Evolution\n",
    "    for i in range(1, num_step+1):\n",
    "        # evaluate speed\n",
    "        for j in range(1, 7):\n",
    "            states[i, j+7] = _speed_dynamics(states, control_inputs, i, j)\n",
    "        # evaluate density\n",
    "        states[i, 0] = _init_density(states, i)\n",
    "        for j in range(1, 7):\n",
    "            states[i, j] = _density_dynamics(states, i, j)\n",
    "            if j == 5:\n",
    "                states[i, j] += _add_ramp_up(states, control_inputs, i)\n",
    "        # evaluate queue size\n",
    "        states[i, 7] = states[i, 6]\n",
    "        states[i, -1] = _queue_length_dynamics(states, control_inputs, i)\n",
    "        # evaluate output\n",
    "        outputs[i] = _observation(states, i)\n",
    "    return states, outputs"
   ]
  },
  {
   "cell_type": "code",
   "execution_count": 6,
   "id": "9b16d8cb-6430-4aae-8de7-4922d0e7d98a",
   "metadata": {},
   "outputs": [],
   "source": [
    "def unpack(num_step: int, opt_vars: np.ndarray) -> Tuple[np.ndarray, np.ndarray]:\n",
    "    controls, states = opt_vars[:2*num_step], opt_vars[2*num_step:]\n",
    "    return controls.reshape((-1, 2)), states.reshape((-1, Ndim))\n",
    "\n",
    "def pack(controls: np.ndarray, states: np.ndarray) -> np.ndarray:\n",
    "    return np.append(controls.reshape(-1), states.reshape(-1))"
   ]
  },
  {
   "cell_type": "code",
   "execution_count": 7,
   "id": "10efa0bd-dc62-4232-b5b4-641d0621fd34",
   "metadata": {},
   "outputs": [],
   "source": [
    "def optimize(num_step: int=120, init_controls: np.ndarray=None, init_states: np.ndarray=None, max_queue: bool=False, discrete: bool=False):\n",
    "    def objective(opt_vars: np.ndarray):\n",
    "        assert not np.isnan(opt_vars).any() and not np.isinf(opt_vars).any()\n",
    "        controls, states = unpack(num_step, opt_vars)\n",
    "        return reduce(lambda x, y: x + y, map(lambda idx: _observation(states, idx), range(1, num_step+1)))\n",
    "    \n",
    "    def dynamics_constraint(opt_vars: np.ndarray):\n",
    "        \"\"\"\n",
    "        Express the nonlinear equality constraints x[k+1]=f(x[k],u[k]) => f(x[k],u[k])-x[k+1]=0\n",
    "        \"\"\"\n",
    "        controls, states = unpack(num_step, opt_vars) \n",
    "        results = np.zeros(shape=num_step*Ndim) \n",
    "        # Initialization Contraints\n",
    "        results[0] = states[0, 0] - 25\n",
    "        for i in range(1, 8):\n",
    "            results[i] = states[i, 0] - 25\n",
    "            if i != 7: results[i+7] = states[0, i+7] - 80\n",
    "        results[14] = states[0, -1]\n",
    "    \n",
    "        for i in range(0, num_step):\n",
    "            # Speed contraints: same with speed dynamics\n",
    "            for j in range(1, 7):\n",
    "                results[i*Ndim+j+7] = _speed_dynamics(states, controls, i, j) - states[i, j+7]\n",
    "            # Initial density constraints: v_0(k) = v_1(k), q_0(k) = lambda * rho_0(k) * v_0(k)\n",
    "            results[i*Ndim] = _init_density(states, i) - states[i, 0]\n",
    "            # Density constraints\n",
    "            for j in range(1, 7):\n",
    "                results[i*Ndim+j] = _density_dynamics(states, i, j) - states[i, j]\n",
    "                if j == 5:\n",
    "                    results[i*Ndim+j] += _add_ramp_up(states, controls, i)\n",
    "            results[i*Ndim+7] = states[i, 7] - states[i, 6]\n",
    "            results[(i+1)*Ndim-1] = states[i, -1] - _queue_length_dynamics(states, controls, i)\n",
    "        return results\n",
    "\n",
    "    init_opt_vars = pack(init_controls, init_states) # define initial values for optimization\n",
    "    nonlinear_contraints = NonlinearConstraint(dynamics_constraint, lb=np.zeros(shape=num_step*Ndim), ub=np.zeros(shape=num_step*Ndim), jac='3-point', hess=BFGS())     # define nonlinear contraints\n",
    "    result = None\n",
    "    if not discrete:\n",
    "        bounds = [(0, 1), (60, 120)] * num_step + ([(0, Rho_c)] * 8 + [(0, 200)] * 6 + [(0, (np.inf if not max_queue else 23 + E1 / 6))])  * (num_step + 1)\n",
    "        assert len(init_opt_vars) == len(bounds)\n",
    "        result = minimize(objective, init_opt_vars, method='trust-constr', jac='3-point', hess=BFGS(), bounds=bounds, constraints=[nonlinear_contraints], options={'verbose': 2, \"gtol\": 1e-5, \"xtol\": 1e-5, \"barrier_tol\": 1e-7, \"sparse_jacobian\": True, \"factorization_method\": \"AugmentedSystem\", \"maxiter\": 100})\n",
    "    print(f\"Success: {result.success}, message: {result.message}\")\n",
    "    optimal_opt_vars = result.x\n",
    "    optimal_controls, optimal_states = unpack(num_step, optimal_opt_vars)\n",
    "    return optimal_controls, optimal_states"
   ]
  },
  {
   "cell_type": "markdown",
   "id": "88eba358-5b6f-4771-a222-c69c8da14496",
   "metadata": {},
   "source": [
    "##### Task Code for the problems"
   ]
  },
  {
   "cell_type": "code",
   "execution_count": 8,
   "id": "c7e6373d-82d4-4913-92bd-8e6156c60d3a",
   "metadata": {},
   "outputs": [],
   "source": [
    "def task1(num_control: int):\n",
    "    vsl_, r_ = np.random.rand(num_control) * 60 + 60, np.random.rand(num_control)\n",
    "    states, outputs = simulate(num_control * 6, vsl_, r_)\n",
    "    print(states)\n",
    "    print(outputs)"
   ]
  },
  {
   "cell_type": "code",
   "execution_count": 9,
   "id": "908d4c63-4377-4c22-b9e2-faecea0ba350",
   "metadata": {},
   "outputs": [],
   "source": [
    "def task3():\n",
    "    init_states, _ = simulate(120, np.zeros(20), np.full(20, 60))\n",
    "    init_controls = np.array([0, 60] * 120)\n",
    "    optimize(120, init_controls, init_states)"
   ]
  },
  {
   "cell_type": "code",
   "execution_count": null,
   "id": "f7454265-59ea-45a4-a42f-3715eef2d73a",
   "metadata": {
    "scrolled": true
   },
   "outputs": [
    {
     "name": "stdout",
     "output_type": "stream",
     "text": [
      "| niter |f evals|CG iter|  obj func   |tr radius |   opt    |  c viol  |\n",
      "|-------|-------|-------|-------------|----------|----------|----------|\n",
      "|   1   | 4111  |   0   | +7.3482e+01 | 1.00e+00 | 5.05e-02 | 1.82e+01 |\n"
     ]
    }
   ],
   "source": [
    "task3()"
   ]
  }
 ],
 "metadata": {
  "kernelspec": {
   "display_name": "Python 3 (ipykernel)",
   "language": "python",
   "name": "python3"
  },
  "language_info": {
   "codemirror_mode": {
    "name": "ipython",
    "version": 3
   },
   "file_extension": ".py",
   "mimetype": "text/x-python",
   "name": "python",
   "nbconvert_exporter": "python",
   "pygments_lexer": "ipython3",
   "version": "3.12.3"
  }
 },
 "nbformat": 4,
 "nbformat_minor": 5
}
